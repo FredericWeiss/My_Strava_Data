{
 "cells": [
  {
   "cell_type": "markdown",
   "metadata": {},
   "source": [
    "#### Importing packages and functions"
   ]
  },
  {
   "cell_type": "code",
   "execution_count": 104,
   "metadata": {},
   "outputs": [],
   "source": [
    "# Importing functions from other files\n",
    "from source.authorize import get_token\n",
    "from source.get_data import get_activity_data\n",
    "\n",
    "# Importing packages\n",
    "import pandas as pd\n",
    "import numpy as np\n",
    "from datetime import datetime\n",
    "import math"
   ]
  },
  {
   "cell_type": "markdown",
   "metadata": {},
   "source": [
    "#### Setting intial variables"
   ]
  },
  {
   "cell_type": "code",
   "execution_count": null,
   "metadata": {},
   "outputs": [],
   "source": [
    "# Setting initial variables\n",
    "ACTIVITIES_PER_PAGE = 200\n",
    "page = 1\n",
    "next_page = True"
   ]
  },
  {
   "cell_type": "markdown",
   "metadata": {},
   "source": [
    "#### Getting the data using the strava api"
   ]
  },
  {
   "cell_type": "code",
   "execution_count": 34,
   "metadata": {},
   "outputs": [
    {
     "name": "stderr",
     "output_type": "stream",
     "text": [
      "c:\\ProgramData\\Anaconda3\\lib\\site-packages\\urllib3\\connectionpool.py:1045: InsecureRequestWarning: Unverified HTTPS request is being made to host 'www.strava.com'. Adding certificate verification is strongly advised. See: https://urllib3.readthedocs.io/en/1.26.x/advanced-usage.html#ssl-warnings\n",
      "  warnings.warn(\n"
     ]
    },
    {
     "name": "stdout",
     "output_type": "stream",
     "text": [
      "Sucess\n",
      "Sucess\n"
     ]
    },
    {
     "name": "stderr",
     "output_type": "stream",
     "text": [
      "C:\\Users\\trash\\AppData\\Local\\Temp\\ipykernel_26048\\3229603409.py:42: FutureWarning: The frame.append method is deprecated and will be removed from pandas in a future version. Use pandas.concat instead.\n",
      "  activities = activities.append(df)\n"
     ]
    },
    {
     "name": "stdout",
     "output_type": "stream",
     "text": [
      "Sucess\n"
     ]
    },
    {
     "name": "stderr",
     "output_type": "stream",
     "text": [
      "C:\\Users\\trash\\AppData\\Local\\Temp\\ipykernel_26048\\3229603409.py:42: FutureWarning: The frame.append method is deprecated and will be removed from pandas in a future version. Use pandas.concat instead.\n",
      "  activities = activities.append(df)\n"
     ]
    },
    {
     "name": "stdout",
     "output_type": "stream",
     "text": [
      "Sucess\n"
     ]
    }
   ],
   "source": [
    "# Getting the token to access the api\n",
    "token = get_token()\n",
    "\n",
    "# The maximum number of activities that can be extracted from one page is 200\n",
    "# Therefore we extract 200 activities per page, until there are no more activities on further pages\n",
    "# A boolean variable determines if there are entries in the current and the next pages\n",
    "while next_page:\n",
    "    \n",
    "    # Setting the parameters for the get request\n",
    "    params = {'per_page': ACTIVITIES_PER_PAGE, 'page': page}\n",
    "\n",
    "    # Extracting the activity data\n",
    "    data = get_activity_data(token, params=params)\n",
    "\n",
    "    # Saving the activity data in a data frame and setting index\n",
    "    df = pd.json_normalize(data)\n",
    "    df.set_index(np.arange((page - 1) * ACTIVITIES_PER_PAGE, (page - 1) * ACTIVITIES_PER_PAGE + len(df)), inplace=True)\n",
    "\n",
    "    # Check if there are entries for the current page and if not set the boolean variable accordingly\n",
    "    if len(df) == 0:\n",
    "        next_page = False\n",
    "    else:\n",
    "\n",
    "        # Adding the current data to the final activity data frame\n",
    "        if page == 1:\n",
    "            activities = df\n",
    "        else:\n",
    "            activities = activities.append(df)\n",
    "    \n",
    "    # Moving to the next page\n",
    "    page += 1\n",
    "\n",
    "# Determing the filename and filepath and saving the data as csv\n",
    "timestamp = datetime.now().strftime('%d%m%Y')\n",
    "filepath = f'data/{timestamp}_activitydata.csv'\n",
    "activities.to_csv(filepath, index=False)   "
   ]
  },
  {
   "cell_type": "markdown",
   "metadata": {},
   "source": [
    "#### First exploration and cleaning of the data"
   ]
  },
  {
   "cell_type": "code",
   "execution_count": 36,
   "metadata": {},
   "outputs": [
    {
     "data": {
      "text/html": [
       "<div>\n",
       "<style scoped>\n",
       "    .dataframe tbody tr th:only-of-type {\n",
       "        vertical-align: middle;\n",
       "    }\n",
       "\n",
       "    .dataframe tbody tr th {\n",
       "        vertical-align: top;\n",
       "    }\n",
       "\n",
       "    .dataframe thead th {\n",
       "        text-align: right;\n",
       "    }\n",
       "</style>\n",
       "<table border=\"1\" class=\"dataframe\">\n",
       "  <thead>\n",
       "    <tr style=\"text-align: right;\">\n",
       "      <th></th>\n",
       "      <th>resource_state</th>\n",
       "      <th>name</th>\n",
       "      <th>distance</th>\n",
       "      <th>moving_time</th>\n",
       "      <th>elapsed_time</th>\n",
       "      <th>total_elevation_gain</th>\n",
       "      <th>type</th>\n",
       "      <th>sport_type</th>\n",
       "      <th>id</th>\n",
       "      <th>start_date</th>\n",
       "      <th>...</th>\n",
       "      <th>athlete.id</th>\n",
       "      <th>athlete.resource_state</th>\n",
       "      <th>map.id</th>\n",
       "      <th>map.summary_polyline</th>\n",
       "      <th>map.resource_state</th>\n",
       "      <th>workout_type</th>\n",
       "      <th>average_cadence</th>\n",
       "      <th>average_watts</th>\n",
       "      <th>kilojoules</th>\n",
       "      <th>device_watts</th>\n",
       "    </tr>\n",
       "  </thead>\n",
       "  <tbody>\n",
       "    <tr>\n",
       "      <th>0</th>\n",
       "      <td>2</td>\n",
       "      <td>Evening Swim</td>\n",
       "      <td>3150.0</td>\n",
       "      <td>5420</td>\n",
       "      <td>6328</td>\n",
       "      <td>0.0</td>\n",
       "      <td>Swim</td>\n",
       "      <td>Swim</td>\n",
       "      <td>11166733535</td>\n",
       "      <td>2024-04-12T18:04:35Z</td>\n",
       "      <td>...</td>\n",
       "      <td>43791935</td>\n",
       "      <td>1</td>\n",
       "      <td>a11166733535</td>\n",
       "      <td></td>\n",
       "      <td>2</td>\n",
       "      <td>NaN</td>\n",
       "      <td>NaN</td>\n",
       "      <td>NaN</td>\n",
       "      <td>NaN</td>\n",
       "      <td>NaN</td>\n",
       "    </tr>\n",
       "    <tr>\n",
       "      <th>1</th>\n",
       "      <td>2</td>\n",
       "      <td>Evening Workout</td>\n",
       "      <td>0.0</td>\n",
       "      <td>3882</td>\n",
       "      <td>3882</td>\n",
       "      <td>0.0</td>\n",
       "      <td>Workout</td>\n",
       "      <td>Workout</td>\n",
       "      <td>11152338412</td>\n",
       "      <td>2024-04-10T18:53:14Z</td>\n",
       "      <td>...</td>\n",
       "      <td>43791935</td>\n",
       "      <td>1</td>\n",
       "      <td>a11152338412</td>\n",
       "      <td></td>\n",
       "      <td>2</td>\n",
       "      <td>NaN</td>\n",
       "      <td>NaN</td>\n",
       "      <td>NaN</td>\n",
       "      <td>NaN</td>\n",
       "      <td>NaN</td>\n",
       "    </tr>\n",
       "    <tr>\n",
       "      <th>2</th>\n",
       "      <td>2</td>\n",
       "      <td>Afternoon Run</td>\n",
       "      <td>5370.4</td>\n",
       "      <td>1864</td>\n",
       "      <td>1867</td>\n",
       "      <td>22.0</td>\n",
       "      <td>Run</td>\n",
       "      <td>Run</td>\n",
       "      <td>11142753885</td>\n",
       "      <td>2024-04-09T15:47:51Z</td>\n",
       "      <td>...</td>\n",
       "      <td>43791935</td>\n",
       "      <td>1</td>\n",
       "      <td>a11142753885</td>\n",
       "      <td>et_mH{hsr@HLD?Tc@n@c@lDm@P?PEDEzAm@FId@Cj@SJNZ...</td>\n",
       "      <td>2</td>\n",
       "      <td>NaN</td>\n",
       "      <td>77.8</td>\n",
       "      <td>NaN</td>\n",
       "      <td>NaN</td>\n",
       "      <td>NaN</td>\n",
       "    </tr>\n",
       "    <tr>\n",
       "      <th>3</th>\n",
       "      <td>2</td>\n",
       "      <td>Afternoon Ride</td>\n",
       "      <td>22456.8</td>\n",
       "      <td>3526</td>\n",
       "      <td>3526</td>\n",
       "      <td>268.0</td>\n",
       "      <td>Ride</td>\n",
       "      <td>Ride</td>\n",
       "      <td>11071374180</td>\n",
       "      <td>2024-03-30T15:51:00Z</td>\n",
       "      <td>...</td>\n",
       "      <td>43791935</td>\n",
       "      <td>1</td>\n",
       "      <td>a11071374180</td>\n",
       "      <td>giihHypwx@rEoD`Bw@xAa@lBADcDCgEDs@Ew@PwBJWJGdC...</td>\n",
       "      <td>2</td>\n",
       "      <td>NaN</td>\n",
       "      <td>NaN</td>\n",
       "      <td>185.3</td>\n",
       "      <td>653.5</td>\n",
       "      <td>False</td>\n",
       "    </tr>\n",
       "    <tr>\n",
       "      <th>4</th>\n",
       "      <td>2</td>\n",
       "      <td>Afternoon Swim</td>\n",
       "      <td>2500.0</td>\n",
       "      <td>3315</td>\n",
       "      <td>3365</td>\n",
       "      <td>0.0</td>\n",
       "      <td>Swim</td>\n",
       "      <td>Swim</td>\n",
       "      <td>11071369686</td>\n",
       "      <td>2024-03-29T14:09:37Z</td>\n",
       "      <td>...</td>\n",
       "      <td>43791935</td>\n",
       "      <td>1</td>\n",
       "      <td>a11071369686</td>\n",
       "      <td></td>\n",
       "      <td>2</td>\n",
       "      <td>NaN</td>\n",
       "      <td>NaN</td>\n",
       "      <td>NaN</td>\n",
       "      <td>NaN</td>\n",
       "      <td>NaN</td>\n",
       "    </tr>\n",
       "  </tbody>\n",
       "</table>\n",
       "<p>5 rows × 56 columns</p>\n",
       "</div>"
      ],
      "text/plain": [
       "   resource_state             name  distance  moving_time  elapsed_time  \\\n",
       "0               2     Evening Swim    3150.0         5420          6328   \n",
       "1               2  Evening Workout       0.0         3882          3882   \n",
       "2               2    Afternoon Run    5370.4         1864          1867   \n",
       "3               2   Afternoon Ride   22456.8         3526          3526   \n",
       "4               2   Afternoon Swim    2500.0         3315          3365   \n",
       "\n",
       "   total_elevation_gain     type sport_type           id  \\\n",
       "0                   0.0     Swim       Swim  11166733535   \n",
       "1                   0.0  Workout    Workout  11152338412   \n",
       "2                  22.0      Run        Run  11142753885   \n",
       "3                 268.0     Ride       Ride  11071374180   \n",
       "4                   0.0     Swim       Swim  11071369686   \n",
       "\n",
       "             start_date  ... athlete.id athlete.resource_state        map.id  \\\n",
       "0  2024-04-12T18:04:35Z  ...   43791935                      1  a11166733535   \n",
       "1  2024-04-10T18:53:14Z  ...   43791935                      1  a11152338412   \n",
       "2  2024-04-09T15:47:51Z  ...   43791935                      1  a11142753885   \n",
       "3  2024-03-30T15:51:00Z  ...   43791935                      1  a11071374180   \n",
       "4  2024-03-29T14:09:37Z  ...   43791935                      1  a11071369686   \n",
       "\n",
       "                                map.summary_polyline map.resource_state  \\\n",
       "0                                                                     2   \n",
       "1                                                                     2   \n",
       "2  et_mH{hsr@HLD?Tc@n@c@lDm@P?PEDEzAm@FId@Cj@SJNZ...                  2   \n",
       "3  giihHypwx@rEoD`Bw@xAa@lBADcDCgEDs@Ew@PwBJWJGdC...                  2   \n",
       "4                                                                     2   \n",
       "\n",
       "  workout_type  average_cadence  average_watts  kilojoules  device_watts  \n",
       "0          NaN              NaN            NaN         NaN           NaN  \n",
       "1          NaN              NaN            NaN         NaN           NaN  \n",
       "2          NaN             77.8            NaN         NaN           NaN  \n",
       "3          NaN              NaN          185.3       653.5         False  \n",
       "4          NaN              NaN            NaN         NaN           NaN  \n",
       "\n",
       "[5 rows x 56 columns]"
      ]
     },
     "execution_count": 36,
     "metadata": {},
     "output_type": "execute_result"
    }
   ],
   "source": [
    "activities.head()"
   ]
  },
  {
   "cell_type": "code",
   "execution_count": 40,
   "metadata": {},
   "outputs": [
    {
     "name": "stdout",
     "output_type": "stream",
     "text": [
      "<class 'pandas.core.frame.DataFrame'>\n",
      "Int64Index: 579 entries, 0 to 578\n",
      "Data columns (total 56 columns):\n",
      " #   Column                         Non-Null Count  Dtype  \n",
      "---  ------                         --------------  -----  \n",
      " 0   resource_state                 579 non-null    int64  \n",
      " 1   name                           579 non-null    object \n",
      " 2   distance                       579 non-null    float64\n",
      " 3   moving_time                    579 non-null    int64  \n",
      " 4   elapsed_time                   579 non-null    int64  \n",
      " 5   total_elevation_gain           579 non-null    float64\n",
      " 6   type                           579 non-null    object \n",
      " 7   sport_type                     579 non-null    object \n",
      " 8   id                             579 non-null    int64  \n",
      " 9   start_date                     579 non-null    object \n",
      " 10  start_date_local               579 non-null    object \n",
      " 11  timezone                       579 non-null    object \n",
      " 12  utc_offset                     579 non-null    float64\n",
      " 13  location_city                  0 non-null      object \n",
      " 14  location_state                 0 non-null      object \n",
      " 15  location_country               0 non-null      object \n",
      " 16  achievement_count              579 non-null    int64  \n",
      " 17  kudos_count                    579 non-null    int64  \n",
      " 18  comment_count                  579 non-null    int64  \n",
      " 19  athlete_count                  579 non-null    int64  \n",
      " 20  photo_count                    579 non-null    int64  \n",
      " 21  trainer                        579 non-null    bool   \n",
      " 22  commute                        579 non-null    bool   \n",
      " 23  manual                         579 non-null    bool   \n",
      " 24  private                        579 non-null    bool   \n",
      " 25  visibility                     579 non-null    object \n",
      " 26  flagged                        579 non-null    bool   \n",
      " 27  gear_id                        220 non-null    object \n",
      " 28  start_latlng                   579 non-null    object \n",
      " 29  end_latlng                     579 non-null    object \n",
      " 30  average_speed                  579 non-null    float64\n",
      " 31  max_speed                      579 non-null    float64\n",
      " 32  has_heartrate                  579 non-null    bool   \n",
      " 33  average_heartrate              528 non-null    float64\n",
      " 34  max_heartrate                  528 non-null    float64\n",
      " 35  heartrate_opt_out              579 non-null    bool   \n",
      " 36  display_hide_heartrate_option  579 non-null    bool   \n",
      " 37  elev_high                      371 non-null    float64\n",
      " 38  elev_low                       371 non-null    float64\n",
      " 39  upload_id                      566 non-null    float64\n",
      " 40  upload_id_str                  566 non-null    object \n",
      " 41  external_id                    532 non-null    object \n",
      " 42  from_accepted_tag              579 non-null    bool   \n",
      " 43  pr_count                       579 non-null    int64  \n",
      " 44  total_photo_count              579 non-null    int64  \n",
      " 45  has_kudoed                     579 non-null    bool   \n",
      " 46  athlete.id                     579 non-null    int64  \n",
      " 47  athlete.resource_state         579 non-null    int64  \n",
      " 48  map.id                         579 non-null    object \n",
      " 49  map.summary_polyline           579 non-null    object \n",
      " 50  map.resource_state             579 non-null    int64  \n",
      " 51  workout_type                   34 non-null     float64\n",
      " 52  average_cadence                60 non-null     float64\n",
      " 53  average_watts                  124 non-null    float64\n",
      " 54  kilojoules                     124 non-null    float64\n",
      " 55  device_watts                   138 non-null    object \n",
      "dtypes: bool(10), float64(14), int64(14), object(18)\n",
      "memory usage: 218.3+ KB\n"
     ]
    }
   ],
   "source": [
    "activities.info()"
   ]
  },
  {
   "cell_type": "markdown",
   "metadata": {},
   "source": [
    "From the info we can extract the first findings:\n",
    "- We have 56 from which only some are interesting for us\n",
    "- The datatype of the colums seem to be correct\n",
    "- There are several columns with missing values\n",
    "- The two heartrate colums have missing values, since some workouts were recorded with my phone which does not provide heartrate data and some with my sportswatch\n",
    "\n",
    "The next step is to extract the colums we actually need"
   ]
  },
  {
   "cell_type": "code",
   "execution_count": 58,
   "metadata": {},
   "outputs": [
    {
     "name": "stdout",
     "output_type": "stream",
     "text": [
      "(579, 21)\n"
     ]
    }
   ],
   "source": [
    "result = activities[['name', 'distance', 'moving_time', 'elapsed_time', 'total_elevation_gain', 'sport_type', 'start_date', 'start_date_local', 'timezone', 'achievement_count', 'start_latlng', 'end_latlng', 'average_speed', 'max_speed', 'has_heartrate', 'average_heartrate', 'max_heartrate', 'elev_high', 'elev_low', 'average_cadence', 'average_watts']]\n",
    "print(result.shape)"
   ]
  },
  {
   "cell_type": "markdown",
   "metadata": {},
   "source": [
    "Now we reduced the number of columns to 21"
   ]
  },
  {
   "cell_type": "code",
   "execution_count": 59,
   "metadata": {},
   "outputs": [
    {
     "name": "stdout",
     "output_type": "stream",
     "text": [
      "<class 'pandas.core.frame.DataFrame'>\n",
      "Int64Index: 579 entries, 0 to 578\n",
      "Data columns (total 21 columns):\n",
      " #   Column                Non-Null Count  Dtype  \n",
      "---  ------                --------------  -----  \n",
      " 0   name                  579 non-null    object \n",
      " 1   distance              579 non-null    float64\n",
      " 2   moving_time           579 non-null    int64  \n",
      " 3   elapsed_time          579 non-null    int64  \n",
      " 4   total_elevation_gain  579 non-null    float64\n",
      " 5   sport_type            579 non-null    object \n",
      " 6   start_date            579 non-null    object \n",
      " 7   start_date_local      579 non-null    object \n",
      " 8   timezone              579 non-null    object \n",
      " 9   achievement_count     579 non-null    int64  \n",
      " 10  start_latlng          579 non-null    object \n",
      " 11  end_latlng            579 non-null    object \n",
      " 12  average_speed         579 non-null    float64\n",
      " 13  max_speed             579 non-null    float64\n",
      " 14  has_heartrate         579 non-null    bool   \n",
      " 15  average_heartrate     528 non-null    float64\n",
      " 16  max_heartrate         528 non-null    float64\n",
      " 17  elev_high             371 non-null    float64\n",
      " 18  elev_low              371 non-null    float64\n",
      " 19  average_cadence       60 non-null     float64\n",
      " 20  average_watts         124 non-null    float64\n",
      "dtypes: bool(1), float64(10), int64(3), object(7)\n",
      "memory usage: 95.6+ KB\n"
     ]
    }
   ],
   "source": [
    "result.info()"
   ]
  },
  {
   "cell_type": "markdown",
   "metadata": {},
   "source": [
    "The next step is to deal with the missing value in the heartrate columns and in the colums average_cadence and average_watts\n",
    "\n",
    "Lets check, if there are just cadence values for running activities and only watt values for cycling activities"
   ]
  },
  {
   "cell_type": "code",
   "execution_count": 87,
   "metadata": {},
   "outputs": [
    {
     "name": "stdout",
     "output_type": "stream",
     "text": [
      "There are 1 non-running activities with a cadence\n"
     ]
    }
   ],
   "source": [
    "df_no_run = result.loc[result['sport_type'] != 'Run']\n",
    "num_cadence = df_no_run.loc[df_no_run['average_cadence'] > 0].shape[0]\n",
    "print(f'There are {num_cadence} non-running activities with a cadence')"
   ]
  },
  {
   "cell_type": "code",
   "execution_count": 85,
   "metadata": {},
   "outputs": [
    {
     "data": {
      "text/html": [
       "<div>\n",
       "<style scoped>\n",
       "    .dataframe tbody tr th:only-of-type {\n",
       "        vertical-align: middle;\n",
       "    }\n",
       "\n",
       "    .dataframe tbody tr th {\n",
       "        vertical-align: top;\n",
       "    }\n",
       "\n",
       "    .dataframe thead th {\n",
       "        text-align: right;\n",
       "    }\n",
       "</style>\n",
       "<table border=\"1\" class=\"dataframe\">\n",
       "  <thead>\n",
       "    <tr style=\"text-align: right;\">\n",
       "      <th></th>\n",
       "      <th>name</th>\n",
       "      <th>distance</th>\n",
       "      <th>moving_time</th>\n",
       "      <th>elapsed_time</th>\n",
       "      <th>total_elevation_gain</th>\n",
       "      <th>sport_type</th>\n",
       "      <th>start_date</th>\n",
       "      <th>start_date_local</th>\n",
       "      <th>timezone</th>\n",
       "      <th>achievement_count</th>\n",
       "      <th>...</th>\n",
       "      <th>end_latlng</th>\n",
       "      <th>average_speed</th>\n",
       "      <th>max_speed</th>\n",
       "      <th>has_heartrate</th>\n",
       "      <th>average_heartrate</th>\n",
       "      <th>max_heartrate</th>\n",
       "      <th>elev_high</th>\n",
       "      <th>elev_low</th>\n",
       "      <th>average_cadence</th>\n",
       "      <th>average_watts</th>\n",
       "    </tr>\n",
       "  </thead>\n",
       "  <tbody>\n",
       "    <tr>\n",
       "      <th>284</th>\n",
       "      <td>Lunch Walk</td>\n",
       "      <td>6615.1</td>\n",
       "      <td>5866</td>\n",
       "      <td>9183</td>\n",
       "      <td>85.0</td>\n",
       "      <td>Walk</td>\n",
       "      <td>2022-04-21T08:21:12Z</td>\n",
       "      <td>2022-04-21T11:21:12Z</td>\n",
       "      <td>(GMT+02:00) Europe/Tallinn</td>\n",
       "      <td>0</td>\n",
       "      <td>...</td>\n",
       "      <td>[59.470855593681335, 25.637509049847722]</td>\n",
       "      <td>1.128</td>\n",
       "      <td>3.678</td>\n",
       "      <td>True</td>\n",
       "      <td>78.8</td>\n",
       "      <td>101.0</td>\n",
       "      <td>70.0</td>\n",
       "      <td>58.4</td>\n",
       "      <td>47.3</td>\n",
       "      <td>NaN</td>\n",
       "    </tr>\n",
       "  </tbody>\n",
       "</table>\n",
       "<p>1 rows × 21 columns</p>\n",
       "</div>"
      ],
      "text/plain": [
       "           name  distance  moving_time  elapsed_time  total_elevation_gain  \\\n",
       "284  Lunch Walk    6615.1         5866          9183                  85.0   \n",
       "\n",
       "    sport_type            start_date      start_date_local  \\\n",
       "284       Walk  2022-04-21T08:21:12Z  2022-04-21T11:21:12Z   \n",
       "\n",
       "                       timezone  achievement_count  ...  \\\n",
       "284  (GMT+02:00) Europe/Tallinn                  0  ...   \n",
       "\n",
       "                                   end_latlng average_speed  max_speed  \\\n",
       "284  [59.470855593681335, 25.637509049847722]         1.128      3.678   \n",
       "\n",
       "     has_heartrate  average_heartrate  max_heartrate  elev_high  elev_low  \\\n",
       "284           True               78.8          101.0       70.0      58.4   \n",
       "\n",
       "     average_cadence  average_watts  \n",
       "284             47.3            NaN  \n",
       "\n",
       "[1 rows x 21 columns]"
      ]
     },
     "execution_count": 85,
     "metadata": {},
     "output_type": "execute_result"
    }
   ],
   "source": [
    "df_no_run.loc[df_no_run['average_cadence'] > 0]"
   ]
  },
  {
   "cell_type": "markdown",
   "metadata": {},
   "source": [
    "There is on walking activitly with a value for average cadence. But there are no cycling or similar activities with a cadence value"
   ]
  },
  {
   "cell_type": "code",
   "execution_count": 92,
   "metadata": {},
   "outputs": [
    {
     "name": "stdout",
     "output_type": "stream",
     "text": [
      "There are 23 nan values for cadence for running activities\n"
     ]
    }
   ],
   "source": [
    "df_run = result.loc[result['sport_type'] == 'Run']\n",
    "nan_values = df_run.average_cadence.isna().sum()\n",
    "print(f'There are {nan_values} nan values for cadence for running activities')"
   ]
  },
  {
   "cell_type": "code",
   "execution_count": 103,
   "metadata": {},
   "outputs": [
    {
     "name": "stdout",
     "output_type": "stream",
     "text": [
      "Mean cadence: 79.94406779661014\n",
      "Stadard deviation: 1.3041356883808923\n"
     ]
    }
   ],
   "source": [
    "print(f'Mean cadence: {np.mean(df_run.average_cadence)}')\n",
    "print(f'Stadard deviation: {np.std(df_run.average_cadence)}')"
   ]
  },
  {
   "cell_type": "code",
   "execution_count": 109,
   "metadata": {},
   "outputs": [
    {
     "name": "stdout",
     "output_type": "stream",
     "text": [
      "<class 'pandas.core.frame.DataFrame'>\n",
      "Int64Index: 579 entries, 0 to 578\n",
      "Data columns (total 21 columns):\n",
      " #   Column                Non-Null Count  Dtype  \n",
      "---  ------                --------------  -----  \n",
      " 0   name                  579 non-null    object \n",
      " 1   distance              579 non-null    float64\n",
      " 2   moving_time           579 non-null    int64  \n",
      " 3   elapsed_time          579 non-null    int64  \n",
      " 4   total_elevation_gain  579 non-null    float64\n",
      " 5   sport_type            579 non-null    object \n",
      " 6   start_date            579 non-null    object \n",
      " 7   start_date_local      579 non-null    object \n",
      " 8   timezone              579 non-null    object \n",
      " 9   achievement_count     579 non-null    int64  \n",
      " 10  start_latlng          579 non-null    object \n",
      " 11  end_latlng            579 non-null    object \n",
      " 12  average_speed         579 non-null    float64\n",
      " 13  max_speed             579 non-null    float64\n",
      " 14  has_heartrate         579 non-null    bool   \n",
      " 15  average_heartrate     528 non-null    float64\n",
      " 16  max_heartrate         528 non-null    float64\n",
      " 17  elev_high             371 non-null    float64\n",
      " 18  elev_low              371 non-null    float64\n",
      " 19  average_cadence       83 non-null     float64\n",
      " 20  average_watts         124 non-null    float64\n",
      "dtypes: bool(1), float64(10), int64(3), object(7)\n",
      "memory usage: 111.7+ KB\n"
     ]
    }
   ],
   "source": [
    "nan_index = df_run.loc[df_run.average_cadence.isna()].index\n",
    "replace_value = math.ceil(np.mean(df_run.average_cadence))\n",
    "result.loc[nan_index, 'average_cadence'] = replace_value\n",
    "result.info()"
   ]
  }
 ],
 "metadata": {
  "kernelspec": {
   "display_name": "base",
   "language": "python",
   "name": "python3"
  },
  "language_info": {
   "codemirror_mode": {
    "name": "ipython",
    "version": 3
   },
   "file_extension": ".py",
   "mimetype": "text/x-python",
   "name": "python",
   "nbconvert_exporter": "python",
   "pygments_lexer": "ipython3",
   "version": "3.9.13"
  }
 },
 "nbformat": 4,
 "nbformat_minor": 2
}
